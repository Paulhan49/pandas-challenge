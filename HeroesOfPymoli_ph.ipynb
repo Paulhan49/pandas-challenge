{
 "cells": [
  {
   "cell_type": "markdown",
   "metadata": {},
   "source": [
    "### Note\n",
    "* Instructions have been included for each segment. You do not have to follow them exactly, but they are included to help you think through the steps."
   ]
  },
  {
   "cell_type": "code",
   "execution_count": 47,
   "metadata": {},
   "outputs": [
    {
     "output_type": "execute_result",
     "data": {
      "text/plain": "   Purchase ID             SN  Age Gender  Item ID  \\\n0            0        Lisim78   20   Male      108   \n1            1    Lisovynya38   40   Male      143   \n2            2     Ithergue48   24   Male       92   \n3            3  Chamassasya86   24   Male      100   \n4            4      Iskosia90   23   Male      131   \n\n                                   Item Name  Price  \n0  Extraction, Quickblade Of Trembling Hands   3.53  \n1                          Frenzied Scimitar   1.56  \n2                               Final Critic   4.88  \n3                                Blindscythe   3.27  \n4                                       Fury   1.44  ",
      "text/html": "<div>\n<style scoped>\n    .dataframe tbody tr th:only-of-type {\n        vertical-align: middle;\n    }\n\n    .dataframe tbody tr th {\n        vertical-align: top;\n    }\n\n    .dataframe thead th {\n        text-align: right;\n    }\n</style>\n<table border=\"1\" class=\"dataframe\">\n  <thead>\n    <tr style=\"text-align: right;\">\n      <th></th>\n      <th>Purchase ID</th>\n      <th>SN</th>\n      <th>Age</th>\n      <th>Gender</th>\n      <th>Item ID</th>\n      <th>Item Name</th>\n      <th>Price</th>\n    </tr>\n  </thead>\n  <tbody>\n    <tr>\n      <th>0</th>\n      <td>0</td>\n      <td>Lisim78</td>\n      <td>20</td>\n      <td>Male</td>\n      <td>108</td>\n      <td>Extraction, Quickblade Of Trembling Hands</td>\n      <td>3.53</td>\n    </tr>\n    <tr>\n      <th>1</th>\n      <td>1</td>\n      <td>Lisovynya38</td>\n      <td>40</td>\n      <td>Male</td>\n      <td>143</td>\n      <td>Frenzied Scimitar</td>\n      <td>1.56</td>\n    </tr>\n    <tr>\n      <th>2</th>\n      <td>2</td>\n      <td>Ithergue48</td>\n      <td>24</td>\n      <td>Male</td>\n      <td>92</td>\n      <td>Final Critic</td>\n      <td>4.88</td>\n    </tr>\n    <tr>\n      <th>3</th>\n      <td>3</td>\n      <td>Chamassasya86</td>\n      <td>24</td>\n      <td>Male</td>\n      <td>100</td>\n      <td>Blindscythe</td>\n      <td>3.27</td>\n    </tr>\n    <tr>\n      <th>4</th>\n      <td>4</td>\n      <td>Iskosia90</td>\n      <td>23</td>\n      <td>Male</td>\n      <td>131</td>\n      <td>Fury</td>\n      <td>1.44</td>\n    </tr>\n  </tbody>\n</table>\n</div>"
     },
     "metadata": {},
     "execution_count": 47
    }
   ],
   "source": [
    "# Dependencies and Setup\n",
    "import pandas as pd\n",
    "\n",
    "# File to Load (Remember to Change These)\n",
    "file_to_load = \"Resource/purchase_data.csv\"\n",
    "\n",
    "# Read Purchasing File and store into Pandas data frame\n",
    "purchase_data = pd.read_csv(file_to_load)\n",
    "purchase_data.head()"
   ]
  },
  {
   "cell_type": "markdown",
   "metadata": {},
   "source": [
    "## Player Count"
   ]
  },
  {
   "cell_type": "markdown",
   "metadata": {},
   "source": [
    "* Display the total number of players\n"
   ]
  },
  {
   "cell_type": "code",
   "execution_count": 48,
   "metadata": {},
   "outputs": [
    {
     "output_type": "execute_result",
     "data": {
      "text/plain": "   Total Players\n0            576",
      "text/html": "<div>\n<style scoped>\n    .dataframe tbody tr th:only-of-type {\n        vertical-align: middle;\n    }\n\n    .dataframe tbody tr th {\n        vertical-align: top;\n    }\n\n    .dataframe thead th {\n        text-align: right;\n    }\n</style>\n<table border=\"1\" class=\"dataframe\">\n  <thead>\n    <tr style=\"text-align: right;\">\n      <th></th>\n      <th>Total Players</th>\n    </tr>\n  </thead>\n  <tbody>\n    <tr>\n      <th>0</th>\n      <td>576</td>\n    </tr>\n  </tbody>\n</table>\n</div>"
     },
     "metadata": {},
     "execution_count": 48
    }
   ],
   "source": [
    "# Calculate the total number of player\n",
    "player_counts = len(purchase_data[\"SN\"].unique())\n",
    "total_players = pd.DataFrame({\"Total Players\":[player_counts]})\n",
    "total_players"
   ]
  },
  {
   "cell_type": "markdown",
   "metadata": {},
   "source": [
    "## Purchasing Analysis (Total)"
   ]
  },
  {
   "cell_type": "markdown",
   "metadata": {},
   "source": [
    "* Run basic calculations to obtain number of unique items, average price, etc.\n",
    "\n",
    "\n",
    "* Create a summary data frame to hold the results\n",
    "\n",
    "\n",
    "* Optional: give the displayed data cleaner formatting\n",
    "\n",
    "\n",
    "* Display the summary data frame\n"
   ]
  },
  {
   "cell_type": "code",
   "execution_count": 49,
   "metadata": {
    "scrolled": true
   },
   "outputs": [
    {
     "output_type": "execute_result",
     "data": {
      "text/plain": "   Numner of Unique Items  Average Price  Number of Purchases  Total Revenue\n0                     179       3.050987                  780        2379.77",
      "text/html": "<div>\n<style scoped>\n    .dataframe tbody tr th:only-of-type {\n        vertical-align: middle;\n    }\n\n    .dataframe tbody tr th {\n        vertical-align: top;\n    }\n\n    .dataframe thead th {\n        text-align: right;\n    }\n</style>\n<table border=\"1\" class=\"dataframe\">\n  <thead>\n    <tr style=\"text-align: right;\">\n      <th></th>\n      <th>Numner of Unique Items</th>\n      <th>Average Price</th>\n      <th>Number of Purchases</th>\n      <th>Total Revenue</th>\n    </tr>\n  </thead>\n  <tbody>\n    <tr>\n      <th>0</th>\n      <td>179</td>\n      <td>3.050987</td>\n      <td>780</td>\n      <td>2379.77</td>\n    </tr>\n  </tbody>\n</table>\n</div>"
     },
     "metadata": {},
     "execution_count": 49
    }
   ],
   "source": [
    "# Calculate the purchasing analysis and provide a summary table\n",
    "num_of_unique_item = len(purchase_data[\"Item ID\"].unique())\n",
    "num_of_unique_item\n",
    "\n",
    "average_price = purchase_data[\"Price\"].mean()\n",
    "average_price\n",
    "\n",
    "total_purchase = purchase_data['Purchase ID'].count()\n",
    "total_purchase\n",
    "\n",
    "total_revenue = purchase_data['Price'].sum()\n",
    "total_revenue\n",
    "\n",
    "summary_df = pd.DataFrame({\"Numner of Unique Items\":[num_of_unique_item], \n",
    "                            \"Average Price\":[average_price], \n",
    "                            \"Number of Purchases\":[total_purchase],\n",
    "                            \"Total Revenue\":[total_revenue]})\n",
    "summary_df"
   ]
  },
  {
   "cell_type": "markdown",
   "metadata": {},
   "source": [
    "## Gender Demographics"
   ]
  },
  {
   "cell_type": "markdown",
   "metadata": {},
   "source": [
    "* Percentage and Count of Male Players\n",
    "\n",
    "\n",
    "* Percentage and Count of Female Players\n",
    "\n",
    "\n",
    "* Percentage and Count of Other / Non-Disclosed\n",
    "\n",
    "\n"
   ]
  },
  {
   "cell_type": "code",
   "execution_count": 50,
   "metadata": {},
   "outputs": [
    {
     "output_type": "execute_result",
     "data": {
      "text/plain": "                       Percentage of Players  Total Count\nMale                                   84.03          484\nFemale                                 14.06           81\nOther / Non-Disclosed                   1.91           11",
      "text/html": "<div>\n<style scoped>\n    .dataframe tbody tr th:only-of-type {\n        vertical-align: middle;\n    }\n\n    .dataframe tbody tr th {\n        vertical-align: top;\n    }\n\n    .dataframe thead th {\n        text-align: right;\n    }\n</style>\n<table border=\"1\" class=\"dataframe\">\n  <thead>\n    <tr style=\"text-align: right;\">\n      <th></th>\n      <th>Percentage of Players</th>\n      <th>Total Count</th>\n    </tr>\n  </thead>\n  <tbody>\n    <tr>\n      <th>Male</th>\n      <td>84.03</td>\n      <td>484</td>\n    </tr>\n    <tr>\n      <th>Female</th>\n      <td>14.06</td>\n      <td>81</td>\n    </tr>\n    <tr>\n      <th>Other / Non-Disclosed</th>\n      <td>1.91</td>\n      <td>11</td>\n    </tr>\n  </tbody>\n</table>\n</div>"
     },
     "metadata": {},
     "execution_count": 50
    }
   ],
   "source": [
    "#Calculate the percentage and count for male, female, and other/non-disclosed, and provide a summary table\n",
    "\n",
    "#Total for each gender\n",
    "gender = purchase_data[[\"SN\", \"Gender\"]]\n",
    "gender = gender.drop_duplicates()\n",
    "gender_count = gender[\"Gender\"].value_counts()\n",
    "\n",
    "# Percentage Calculation for each gender\n",
    "total_players = len(purchase_data[\"SN\"].unique())\n",
    "gender_percentage = round((gender_count/total_players)*100,2)\n",
    "\n",
    "# Create summary table with Dataframe\n",
    "gender_summary = pd.DataFrame({ \"Percentage of Players\": gender_percentage,\"Total Count\": gender_count})\n",
    "gender_summary.index = ([\"Male\", \"Female\", \"Other / Non-Disclosed\"])\n",
    "gender_summary\n",
    "\n"
   ]
  },
  {
   "cell_type": "markdown",
   "metadata": {},
   "source": [
    "\n",
    "## Purchasing Analysis (Gender)"
   ]
  },
  {
   "cell_type": "markdown",
   "metadata": {},
   "source": [
    "* Run basic calculations to obtain purchase count, avg. purchase price, avg. purchase total per person etc. by gender\n",
    "\n",
    "\n",
    "\n",
    "\n",
    "* Create a summary data frame to hold the results\n",
    "\n",
    "\n",
    "* Optional: give the displayed data cleaner formatting\n",
    "\n",
    "\n",
    "* Display the summary data frame"
   ]
  },
  {
   "cell_type": "code",
   "execution_count": 51,
   "metadata": {},
   "outputs": [
    {
     "output_type": "execute_result",
     "data": {
      "text/plain": "   Purchase Count  Average Purchase Price  Total Purchase Value  \\\n0             652                    3.02               1967.64   \n1             113                    3.20                361.94   \n2              15                    3.35                 50.19   \n\n   Avg Total Purchase per Person  \n0                           4.07  \n1                           4.47  \n2                           4.56  ",
      "text/html": "<div>\n<style scoped>\n    .dataframe tbody tr th:only-of-type {\n        vertical-align: middle;\n    }\n\n    .dataframe tbody tr th {\n        vertical-align: top;\n    }\n\n    .dataframe thead th {\n        text-align: right;\n    }\n</style>\n<table border=\"1\" class=\"dataframe\">\n  <thead>\n    <tr style=\"text-align: right;\">\n      <th></th>\n      <th>Purchase Count</th>\n      <th>Average Purchase Price</th>\n      <th>Total Purchase Value</th>\n      <th>Avg Total Purchase per Person</th>\n    </tr>\n  </thead>\n  <tbody>\n    <tr>\n      <th>0</th>\n      <td>652</td>\n      <td>3.02</td>\n      <td>1967.64</td>\n      <td>4.07</td>\n    </tr>\n    <tr>\n      <th>1</th>\n      <td>113</td>\n      <td>3.20</td>\n      <td>361.94</td>\n      <td>4.47</td>\n    </tr>\n    <tr>\n      <th>2</th>\n      <td>15</td>\n      <td>3.35</td>\n      <td>50.19</td>\n      <td>4.56</td>\n    </tr>\n  </tbody>\n</table>\n</div>"
     },
     "metadata": {},
     "execution_count": 51
    }
   ],
   "source": [
    "\n",
    "\n",
    "# Purchase count for both male and female 652/113\n",
    "male_purchase_counts = len(purchase_data.loc[purchase_data[\"Gender\"] == \"Male\", :])\n",
    "female_purchase_counts = len(purchase_data.loc[purchase_data[\"Gender\"] == \"Female\", :])\n",
    "others_purchase_counts = len(purchase_data.loc[purchase_data[\"Gender\"] == \"Other / Non-Disclosed\", :])\n",
    "\n",
    "\n",
    "# Total purchase value for male and female $1967.64/$361.94\n",
    "male_total_price = purchase_data[purchase_data[\"Gender\"] == \"Male\"][\"Price\"].sum()\n",
    "female_total_price = purchase_data[purchase_data[\"Gender\"] == \"Female\"][\"Price\"].sum()\n",
    "Others_total_price = purchase_data[purchase_data[\"Gender\"] == \"Other / Non-Disclosed\"][\"Price\"].sum()\n",
    "\n",
    "\n",
    "# Average purchase value for male and female 3.02/3.2\n",
    "male_avg_price = round((male_total_price/male_purchase_counts),2)\n",
    "female_avg_price = round((female_total_price/female_purchase_counts),2)\n",
    "Others_avg_price = round((Others_total_price/others_purchase_counts),2)\n",
    "\n",
    "# Average total purchase value per person $4.47/$4.07\n",
    "male_gender_counts =  len(gender.loc[gender[\"Gender\"] == \"Male\", :])\n",
    "female_gender_counts =  len(gender.loc[gender[\"Gender\"] == \"Female\", :])\n",
    "others_gender_counts = len(gender.loc[gender[\"Gender\"] == \"Other / Non-Disclosed\", :])\n",
    "male_avg_purchase_value = round((male_total_price / male_gender_counts),2)\n",
    "female_avg_purchase_value = round((female_total_price / female_gender_counts),2)\n",
    "others_avg_purchase_value = round((Others_total_price / others_gender_counts),2)\n",
    "\n",
    "\n",
    "# Create Summary Table with Dataframe\n",
    "gender_purchase_summary = pd.DataFrame({ \"Purchase Count\": [male_purchase_counts, female_purchase_counts,                                                        others_purchase_counts], \"Average Purchase Price\": [male_avg_price, female_avg_price, Others_avg_price], \"Total Purchase Value\": [male_total_price, female_total_price, Others_total_price], \"Avg Total Purchase per Person\": [male_avg_purchase_value, female_avg_purchase_value, others_avg_purchase_value] })\n",
    "\n",
    "gender_purchase_summary\n",
    "\n"
   ]
  },
  {
   "cell_type": "markdown",
   "metadata": {},
   "source": [
    "## Age Demographics"
   ]
  },
  {
   "cell_type": "markdown",
   "metadata": {},
   "source": [
    "* Establish bins for ages\n",
    "\n",
    "\n",
    "* Categorize the existing players using the age bins. Hint: use pd.cut()\n",
    "\n",
    "\n",
    "* Calculate the numbers and percentages by age group\n",
    "\n",
    "\n",
    "* Create a summary data frame to hold the results\n",
    "\n",
    "\n",
    "* Optional: round the percentage column to two decimal points\n",
    "\n",
    "\n",
    "* Display Age Demographics Table\n"
   ]
  },
  {
   "cell_type": "code",
   "execution_count": 52,
   "metadata": {
    "tags": []
   },
   "outputs": [
    {
     "output_type": "execute_result",
     "data": {
      "text/plain": "                  Total count  Percentage of players\nAge Demographics                                    \n<10                        17                   2.95\n10-14                      22                   3.82\n15-19                     107                  18.58\n20-24                     258                  44.79\n25-29                      77                  13.37\n30-34                      52                   9.03\n35-39                      31                   5.38\n40+                        12                   2.08",
      "text/html": "<div>\n<style scoped>\n    .dataframe tbody tr th:only-of-type {\n        vertical-align: middle;\n    }\n\n    .dataframe tbody tr th {\n        vertical-align: top;\n    }\n\n    .dataframe thead th {\n        text-align: right;\n    }\n</style>\n<table border=\"1\" class=\"dataframe\">\n  <thead>\n    <tr style=\"text-align: right;\">\n      <th></th>\n      <th>Total count</th>\n      <th>Percentage of players</th>\n    </tr>\n    <tr>\n      <th>Age Demographics</th>\n      <th></th>\n      <th></th>\n    </tr>\n  </thead>\n  <tbody>\n    <tr>\n      <th>&lt;10</th>\n      <td>17</td>\n      <td>2.95</td>\n    </tr>\n    <tr>\n      <th>10-14</th>\n      <td>22</td>\n      <td>3.82</td>\n    </tr>\n    <tr>\n      <th>15-19</th>\n      <td>107</td>\n      <td>18.58</td>\n    </tr>\n    <tr>\n      <th>20-24</th>\n      <td>258</td>\n      <td>44.79</td>\n    </tr>\n    <tr>\n      <th>25-29</th>\n      <td>77</td>\n      <td>13.37</td>\n    </tr>\n    <tr>\n      <th>30-34</th>\n      <td>52</td>\n      <td>9.03</td>\n    </tr>\n    <tr>\n      <th>35-39</th>\n      <td>31</td>\n      <td>5.38</td>\n    </tr>\n    <tr>\n      <th>40+</th>\n      <td>12</td>\n      <td>2.08</td>\n    </tr>\n  </tbody>\n</table>\n</div>"
     },
     "metadata": {},
     "execution_count": 52
    }
   ],
   "source": [
    "\n",
    "# Create the bins for ages which is reference from purchase data\n",
    "bins = [0, 9.90, 14.90, 19.90, 24.90, 29.90, 34.90, 39.90, 99999]\n",
    "\n",
    "# # Create the names for the bins\n",
    "group_names = [\"<10\", \"10-14\", \"15-19\", \"20-24\", \"25-29\", \"30-34\", \"35-39\", \"40+\"]\n",
    "\n",
    "# Place the data series into a new column inside of the DataFrame\n",
    "age_df = purchase_data\n",
    "age_df[\"Age Demographics\"] = pd.cut(age_df[\"Age\"], bins, labels=group_names)\n",
    "\n",
    "# Create a GroupBy object based upon \"View Group\"\n",
    "age_group = age_df.groupby(\"Age Demographics\")\n",
    "\n",
    "#Calculate total count\n",
    "unique_players_count = age_group[\"SN\"].nunique()\n",
    "\n",
    "#Calculate percentage for each age group\n",
    "percentage_players = round((unique_players_count/total_players)*100,2)\n",
    "\n",
    "#Create DataFrame \n",
    "age_demographics_summary = pd.DataFrame({\"Total count\":unique_players_count,\"Percentage of players\":percentage_players})\n",
    "age_demographics_summary\n",
    "\n"
   ]
  },
  {
   "cell_type": "markdown",
   "metadata": {},
   "source": [
    "## Purchasing Analysis (Age)"
   ]
  },
  {
   "cell_type": "markdown",
   "metadata": {},
   "source": [
    "* Bin the purchase_data data frame by age\n",
    "\n",
    "\n",
    "* Run basic calculations to obtain purchase count, avg. purchase price, avg. purchase total per person etc. in the table below\n",
    "\n",
    "\n",
    "* Create a summary data frame to hold the results\n",
    "\n",
    "\n",
    "* Optional: give the displayed data cleaner formatting\n",
    "\n",
    "\n",
    "* Display the summary data frame"
   ]
  },
  {
   "cell_type": "code",
   "execution_count": 53,
   "metadata": {},
   "outputs": [
    {
     "output_type": "execute_result",
     "data": {
      "text/plain": "                  Purchase Count  Average Purchase Price  \\\nAge Demographics                                           \n<10                           23                3.353478   \n10-14                         28                2.956429   \n15-19                        136                3.035956   \n20-24                        365                3.052219   \n25-29                        101                2.900990   \n30-34                         73                2.931507   \n35-39                         41                3.601707   \n40+                           13                2.941538   \n\n                  Total Purchase Value  Avg Total Purchase per Person  \nAge Demographics                                                       \n<10                              77.13                           4.54  \n10-14                            82.78                           3.76  \n15-19                           412.89                           3.86  \n20-24                          1114.06                           4.32  \n25-29                           293.00                           3.81  \n30-34                           214.00                           4.12  \n35-39                           147.67                           4.76  \n40+                              38.24                           3.19  ",
      "text/html": "<div>\n<style scoped>\n    .dataframe tbody tr th:only-of-type {\n        vertical-align: middle;\n    }\n\n    .dataframe tbody tr th {\n        vertical-align: top;\n    }\n\n    .dataframe thead th {\n        text-align: right;\n    }\n</style>\n<table border=\"1\" class=\"dataframe\">\n  <thead>\n    <tr style=\"text-align: right;\">\n      <th></th>\n      <th>Purchase Count</th>\n      <th>Average Purchase Price</th>\n      <th>Total Purchase Value</th>\n      <th>Avg Total Purchase per Person</th>\n    </tr>\n    <tr>\n      <th>Age Demographics</th>\n      <th></th>\n      <th></th>\n      <th></th>\n      <th></th>\n    </tr>\n  </thead>\n  <tbody>\n    <tr>\n      <th>&lt;10</th>\n      <td>23</td>\n      <td>3.353478</td>\n      <td>77.13</td>\n      <td>4.54</td>\n    </tr>\n    <tr>\n      <th>10-14</th>\n      <td>28</td>\n      <td>2.956429</td>\n      <td>82.78</td>\n      <td>3.76</td>\n    </tr>\n    <tr>\n      <th>15-19</th>\n      <td>136</td>\n      <td>3.035956</td>\n      <td>412.89</td>\n      <td>3.86</td>\n    </tr>\n    <tr>\n      <th>20-24</th>\n      <td>365</td>\n      <td>3.052219</td>\n      <td>1114.06</td>\n      <td>4.32</td>\n    </tr>\n    <tr>\n      <th>25-29</th>\n      <td>101</td>\n      <td>2.900990</td>\n      <td>293.00</td>\n      <td>3.81</td>\n    </tr>\n    <tr>\n      <th>30-34</th>\n      <td>73</td>\n      <td>2.931507</td>\n      <td>214.00</td>\n      <td>4.12</td>\n    </tr>\n    <tr>\n      <th>35-39</th>\n      <td>41</td>\n      <td>3.601707</td>\n      <td>147.67</td>\n      <td>4.76</td>\n    </tr>\n    <tr>\n      <th>40+</th>\n      <td>13</td>\n      <td>2.941538</td>\n      <td>38.24</td>\n      <td>3.19</td>\n    </tr>\n  </tbody>\n</table>\n</div>"
     },
     "metadata": {},
     "execution_count": 53
    }
   ],
   "source": [
    "# Total purchase counts in eace age group\n",
    "age_group = age_df.groupby(\"Age Demographics\")\n",
    "age_purchase_counts = age_group[\"Purchase ID\"].count()\n",
    "\n",
    "\n",
    "#Total purchase value in each age group\n",
    "age_total_purchase_value = age_group[\"Price\"].sum()\n",
    "\n",
    "#Average purchase value in each age group 3.35\n",
    "age_average_purchase_price = age_group[\"Price\"].mean()\n",
    "\n",
    "# Average total purchase per Person in each age group 4.54\n",
    "unique_players_count = age_group[\"SN\"].nunique()\n",
    "avg_perchase_per_player = round(age_total_purchase_value/unique_players_count,2)\n",
    "\n",
    "# Create summary table\n",
    "age_purchase_summary = pd.DataFrame({\"Purchase Count\": age_purchase_counts, \"Average Purchase Price\": age_average_purchase_price,\"Total Purchase Value\": age_total_purchase_value, \"Avg Total Purchase per Person\": avg_perchase_per_player})\n",
    "\n",
    "age_purchase_summary\n",
    "\n"
   ]
  },
  {
   "cell_type": "markdown",
   "metadata": {},
   "source": [
    "## Top Spenders"
   ]
  },
  {
   "cell_type": "markdown",
   "metadata": {},
   "source": [
    "* Run basic calculations to obtain the results in the table below\n",
    "\n",
    "\n",
    "* Create a summary data frame to hold the results\n",
    "\n",
    "\n",
    "* Sort the total purchase value column in descending order\n",
    "\n",
    "\n",
    "* Optional: give the displayed data cleaner formatting\n",
    "\n",
    "\n",
    "* Display a preview of the summary data frame\n",
    "\n"
   ]
  },
  {
   "cell_type": "code",
   "execution_count": 54,
   "metadata": {},
   "outputs": [
    {
     "output_type": "execute_result",
     "data": {
      "text/plain": "             Purchase Count  Average Purchase Price  Total Purchase Value\nSN                                                                       \nLisosia93                 5                    3.79                 18.96\nIdastidru52               4                    3.86                 15.45\nIral74                    4                    3.40                 13.62\nChamjask73                3                    4.61                 13.83\nIskadarya95               3                    4.37                 13.10",
      "text/html": "<div>\n<style scoped>\n    .dataframe tbody tr th:only-of-type {\n        vertical-align: middle;\n    }\n\n    .dataframe tbody tr th {\n        vertical-align: top;\n    }\n\n    .dataframe thead th {\n        text-align: right;\n    }\n</style>\n<table border=\"1\" class=\"dataframe\">\n  <thead>\n    <tr style=\"text-align: right;\">\n      <th></th>\n      <th>Purchase Count</th>\n      <th>Average Purchase Price</th>\n      <th>Total Purchase Value</th>\n    </tr>\n    <tr>\n      <th>SN</th>\n      <th></th>\n      <th></th>\n      <th></th>\n    </tr>\n  </thead>\n  <tbody>\n    <tr>\n      <th>Lisosia93</th>\n      <td>5</td>\n      <td>3.79</td>\n      <td>18.96</td>\n    </tr>\n    <tr>\n      <th>Idastidru52</th>\n      <td>4</td>\n      <td>3.86</td>\n      <td>15.45</td>\n    </tr>\n    <tr>\n      <th>Iral74</th>\n      <td>4</td>\n      <td>3.40</td>\n      <td>13.62</td>\n    </tr>\n    <tr>\n      <th>Chamjask73</th>\n      <td>3</td>\n      <td>4.61</td>\n      <td>13.83</td>\n    </tr>\n    <tr>\n      <th>Iskadarya95</th>\n      <td>3</td>\n      <td>4.37</td>\n      <td>13.10</td>\n    </tr>\n  </tbody>\n</table>\n</div>"
     },
     "metadata": {},
     "execution_count": 54
    }
   ],
   "source": [
    "#Groupby players name with purchase data and calculate the sum\n",
    "top_spender = purchase_data.groupby(\"SN\").sum()\n",
    "\n",
    "# Calculate the total price of each player spending\n",
    "top_total_price = top_spender[\"Price\"]\n",
    "\n",
    "# Calculate the total purchase count for each player\n",
    "top_purchase_count = purchase_data.groupby(\"SN\").count()\n",
    "top_purchase_count = top_purchase_count[\"Purchase ID\"]\n",
    "top_purchase_count\n",
    "\n",
    "# Calculate the average purchase price for each player\n",
    "top_avg_price = round(top_total_price/top_purchase_count,2)\n",
    "\n",
    "# Create summary table for top 5 players\n",
    "top5_spender_summary = pd.DataFrame({\"Purchase Count\": top_purchase_count, \"Average Purchase Price\": top_avg_price, \"Total Purchase Value\": top_total_price})\n",
    "\n",
    "# Sort top 5 spender from summary table\n",
    "top5_spender_summary = top5_spender_summary.sort_values(by=[\"Purchase Count\", \"Average Purchase Price\", \"Total Purchase Value\"], ascending = False)\n",
    "\n",
    "top5_spender_summary.head(5)\n",
    "\n"
   ]
  },
  {
   "cell_type": "markdown",
   "metadata": {},
   "source": [
    "## Most Popular Items"
   ]
  },
  {
   "cell_type": "markdown",
   "metadata": {},
   "source": [
    "* Retrieve the Item ID, Item Name, and Item Price columns\n",
    "\n",
    "\n",
    "* Group by Item ID and Item Name. Perform calculations to obtain purchase count, item price, and total purchase value\n",
    "\n",
    "\n",
    "* Create a summary data frame to hold the results\n",
    "\n",
    "\n",
    "* Sort the purchase count column in descending order\n",
    "\n",
    "\n",
    "* Optional: give the displayed data cleaner formatting\n",
    "\n",
    "\n",
    "* Display a preview of the summary data frame\n",
    "\n"
   ]
  },
  {
   "cell_type": "code",
   "execution_count": 55,
   "metadata": {},
   "outputs": [
    {
     "output_type": "execute_result",
     "data": {
      "text/plain": "                                              Purchase Count  Item Price  \\\nItem Name                                                                  \nFinal Critic                                              13        4.61   \nOathbreaker, Last Hope of the Breaking Storm              12        4.23   \nNirvana                                                    9        4.90   \nFiery Glass Crusader                                       9        4.58   \nExtraction, Quickblade Of Trembling Hands                  9        3.53   \n\n                                              Total Purchase Value  \nItem Name                                                           \nFinal Critic                                                 59.99  \nOathbreaker, Last Hope of the Breaking Storm                 50.76  \nNirvana                                                      44.10  \nFiery Glass Crusader                                         41.22  \nExtraction, Quickblade Of Trembling Hands                    31.77  ",
      "text/html": "<div>\n<style scoped>\n    .dataframe tbody tr th:only-of-type {\n        vertical-align: middle;\n    }\n\n    .dataframe tbody tr th {\n        vertical-align: top;\n    }\n\n    .dataframe thead th {\n        text-align: right;\n    }\n</style>\n<table border=\"1\" class=\"dataframe\">\n  <thead>\n    <tr style=\"text-align: right;\">\n      <th></th>\n      <th>Purchase Count</th>\n      <th>Item Price</th>\n      <th>Total Purchase Value</th>\n    </tr>\n    <tr>\n      <th>Item Name</th>\n      <th></th>\n      <th></th>\n      <th></th>\n    </tr>\n  </thead>\n  <tbody>\n    <tr>\n      <th>Final Critic</th>\n      <td>13</td>\n      <td>4.61</td>\n      <td>59.99</td>\n    </tr>\n    <tr>\n      <th>Oathbreaker, Last Hope of the Breaking Storm</th>\n      <td>12</td>\n      <td>4.23</td>\n      <td>50.76</td>\n    </tr>\n    <tr>\n      <th>Nirvana</th>\n      <td>9</td>\n      <td>4.90</td>\n      <td>44.10</td>\n    </tr>\n    <tr>\n      <th>Fiery Glass Crusader</th>\n      <td>9</td>\n      <td>4.58</td>\n      <td>41.22</td>\n    </tr>\n    <tr>\n      <th>Extraction, Quickblade Of Trembling Hands</th>\n      <td>9</td>\n      <td>3.53</td>\n      <td>31.77</td>\n    </tr>\n  </tbody>\n</table>\n</div>"
     },
     "metadata": {},
     "execution_count": 55
    }
   ],
   "source": [
    "#Groupby players name with purchase data and calculate the sum\n",
    "popular_df = purchase_data.groupby(\"Item Name\").sum()\n",
    "\n",
    "#Calculate the total purchase count for the popular items\n",
    "item_purchase_count = purchase_data.groupby(\"Item Name\").count()\n",
    "item_purchase_count = item_purchase_count[\"Purchase ID\"]\n",
    "item_purchase_count\n",
    "\n",
    "\n",
    "#Calculate the total purchase value for popular items\n",
    "item_total_purchase_value = popular_df[\"Price\"]\n",
    "\n",
    "#Calculate the average price for popular items\n",
    "item_price = round(item_total_purchase_value/item_purchase_count,2)\n",
    "item_price\n",
    "\n",
    "# Create a summary table for popular items\n",
    "popular_item_summary = pd.DataFrame({\"Purchase Count\": item_purchase_count, \"Item Price\": item_price, \"Total Purchase Value\": item_total_purchase_value})\n",
    "\n",
    "# Sort top 5 popular items from summary table\n",
    "popular_item_summary = popular_item_summary.sort_values(by=[\"Purchase Count\", \"Item Price\", \"Total Purchase Value\"], ascending = False)\n",
    "\n",
    "popular_item_summary.head(5)\n"
   ]
  },
  {
   "cell_type": "markdown",
   "metadata": {},
   "source": [
    "## Most Profitable Items"
   ]
  },
  {
   "cell_type": "markdown",
   "metadata": {},
   "source": [
    "* Sort the above table by total purchase value in descending order\n",
    "\n",
    "\n",
    "* Optional: give the displayed data cleaner formatting\n",
    "\n",
    "\n",
    "* Display a preview of the data frame\n",
    "\n"
   ]
  },
  {
   "cell_type": "code",
   "execution_count": 56,
   "metadata": {
    "scrolled": true
   },
   "outputs": [
    {
     "output_type": "execute_result",
     "data": {
      "text/plain": "                                              Purchase Count  Item Price  \\\nItem Name                                                                  \nFinal Critic                                              13        4.61   \nOathbreaker, Last Hope of the Breaking Storm              12        4.23   \nNirvana                                                    9        4.90   \nFiery Glass Crusader                                       9        4.58   \nExtraction, Quickblade Of Trembling Hands                  9        3.53   \n\n                                              Total Purchase Value  \nItem Name                                                           \nFinal Critic                                                 59.99  \nOathbreaker, Last Hope of the Breaking Storm                 50.76  \nNirvana                                                      44.10  \nFiery Glass Crusader                                         41.22  \nExtraction, Quickblade Of Trembling Hands                    31.77  ",
      "text/html": "<div>\n<style scoped>\n    .dataframe tbody tr th:only-of-type {\n        vertical-align: middle;\n    }\n\n    .dataframe tbody tr th {\n        vertical-align: top;\n    }\n\n    .dataframe thead th {\n        text-align: right;\n    }\n</style>\n<table border=\"1\" class=\"dataframe\">\n  <thead>\n    <tr style=\"text-align: right;\">\n      <th></th>\n      <th>Purchase Count</th>\n      <th>Item Price</th>\n      <th>Total Purchase Value</th>\n    </tr>\n    <tr>\n      <th>Item Name</th>\n      <th></th>\n      <th></th>\n      <th></th>\n    </tr>\n  </thead>\n  <tbody>\n    <tr>\n      <th>Final Critic</th>\n      <td>13</td>\n      <td>4.61</td>\n      <td>59.99</td>\n    </tr>\n    <tr>\n      <th>Oathbreaker, Last Hope of the Breaking Storm</th>\n      <td>12</td>\n      <td>4.23</td>\n      <td>50.76</td>\n    </tr>\n    <tr>\n      <th>Nirvana</th>\n      <td>9</td>\n      <td>4.90</td>\n      <td>44.10</td>\n    </tr>\n    <tr>\n      <th>Fiery Glass Crusader</th>\n      <td>9</td>\n      <td>4.58</td>\n      <td>41.22</td>\n    </tr>\n    <tr>\n      <th>Extraction, Quickblade Of Trembling Hands</th>\n      <td>9</td>\n      <td>3.53</td>\n      <td>31.77</td>\n    </tr>\n  </tbody>\n</table>\n</div>"
     },
     "metadata": {},
     "execution_count": 56
    }
   ],
   "source": [
    "popular_item_summary.head(5)"
   ]
  }
 ],
 "metadata": {
  "anaconda-cloud": {},
  "kernel_info": {
   "name": "python3"
  },
  "kernelspec": {
   "display_name": "Python 3.6.10 64-bit ('PythonData': conda)",
   "language": "python",
   "name": "python_defaultSpec_1598032838241"
  },
  "language_info": {
   "codemirror_mode": {
    "name": "ipython",
    "version": 3
   },
   "file_extension": ".py",
   "mimetype": "text/x-python",
   "name": "python",
   "nbconvert_exporter": "python",
   "pygments_lexer": "ipython3",
   "version": "3.6.10-final"
  },
  "latex_envs": {
   "LaTeX_envs_menu_present": true,
   "autoclose": false,
   "autocomplete": true,
   "bibliofile": "biblio.bib",
   "cite_by": "apalike",
   "current_citInitial": 1,
   "eqLabelWithNumbers": true,
   "eqNumInitial": 1,
   "hotkeys": {
    "equation": "Ctrl-E",
    "itemize": "Ctrl-I"
   },
   "labels_anchors": false,
   "latex_user_defs": false,
   "report_style_numbering": false,
   "user_envs_cfg": false
  },
  "nteract": {
   "version": "0.2.0"
  }
 },
 "nbformat": 4,
 "nbformat_minor": 2
}